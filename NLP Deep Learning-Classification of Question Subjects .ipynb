{
  "cells": [
    {
      "cell_type": "markdown",
      "metadata": {
        "id": "qBCMeWH8bIO2"
      },
      "source": [
        "LINK DATASET : https://drive.google.com/file/d/1bIKO1UumMhq1Yyy90NAkH1pHJ0wrIY-q/view?usp=sharing"
      ]
    },
    {
      "cell_type": "markdown",
      "metadata": {},
      "source": [
        "# DATA DIRI\n",
        "\n",
        "NAMA          : ENDOW BONAPEN\n",
        "\n",
        "EMAIL         : 2010511010@mahasiswa.upnvj.ac.id\n",
        "\n",
        "USERNAME      : endowb\n"
      ]
    },
    {
      "cell_type": "markdown",
      "metadata": {
        "id": "x4BDWFFYbd5H"
      },
      "source": [
        "# IMPORT MODUL"
      ]
    },
    {
      "cell_type": "code",
      "execution_count": 34,
      "metadata": {
        "colab": {
          "base_uri": "https://localhost:8080/"
        },
        "id": "1fWCkNpxr0YU",
        "outputId": "f7cf17ec-874b-45e9-d298-6fa7c64ea452"
      },
      "outputs": [
        {
          "name": "stdout",
          "output_type": "stream",
          "text": [
            "Looking in indexes: https://pypi.org/simple, https://us-python.pkg.dev/colab-wheels/public/simple/\n",
            "Requirement already satisfied: Sastrawi in /usr/local/lib/python3.7/dist-packages (1.0.1)\n",
            "Looking in indexes: https://pypi.org/simple, https://us-python.pkg.dev/colab-wheels/public/simple/\n",
            "Requirement already satisfied: emoji in /usr/local/lib/python3.7/dist-packages (2.0.0)\n"
          ]
        }
      ],
      "source": [
        "!pip install Sastrawi\n",
        "!pip install emoji"
      ]
    },
    {
      "cell_type": "code",
      "execution_count": 35,
      "metadata": {
        "colab": {
          "base_uri": "https://localhost:8080/"
        },
        "id": "V7xf_R92rziK",
        "outputId": "12edef94-342a-4051-c00c-ffbea308a8f2"
      },
      "outputs": [
        {
          "name": "stderr",
          "output_type": "stream",
          "text": [
            "[nltk_data] Downloading package punkt to /root/nltk_data...\n",
            "[nltk_data]   Package punkt is already up-to-date!\n",
            "[nltk_data] Downloading package stopwords to /root/nltk_data...\n",
            "[nltk_data]   Package stopwords is already up-to-date!\n"
          ]
        }
      ],
      "source": [
        "import pandas as pd\n",
        "import numpy as np\n",
        "import seaborn as sns\n",
        "import emoji\n",
        "import matplotlib.pyplot as plt\n",
        "\n",
        "import datetime as dt\n",
        "import re\n",
        "import nltk\n",
        "nltk.download('punkt')\n",
        "nltk.download('stopwords')\n",
        "import string\n",
        "from nltk.tokenize import word_tokenize\n",
        "from nltk.corpus import stopwords"
      ]
    },
    {
      "cell_type": "code",
      "execution_count": 36,
      "metadata": {
        "id": "zYDAoORur7sb"
      },
      "outputs": [],
      "source": [
        "from Sastrawi.Stemmer.StemmerFactory import StemmerFactory\n",
        "from Sastrawi.StopWordRemover.StopWordRemoverFactory import StopWordRemoverFactory\n",
        "from wordcloud import WordCloud\n",
        "\n",
        "from keras.preprocessing.text import Tokenizer\n",
        "from keras.preprocessing.sequence import pad_sequences\n",
        "from sklearn.model_selection import train_test_split\n",
        "from sklearn.metrics import accuracy_score\n",
        "from keras.models import Sequential\n",
        "from keras.layers import Embedding, Dense, Dropout, LSTM\n",
        "from keras.callbacks import EarlyStopping\n",
        "from keras.wrappers.scikit_learn import KerasClassifier\n",
        "from mlxtend.plotting import plot_confusion_matrix\n",
        "from sklearn.metrics import confusion_matrix\n",
        "\n",
        "import tensorflow as tf\n",
        "from keras.preprocessing.text import Tokenizer\n",
        "from keras.preprocessing.sequence import pad_sequences\n",
        "from keras.layers import LSTM, Dense, Embedding, Dropout\n",
        "from keras.models import Sequential"
      ]
    },
    {
      "cell_type": "code",
      "execution_count": 37,
      "metadata": {
        "id": "3z1z-jWIF95o"
      },
      "outputs": [],
      "source": [
        "import numpy as np\n",
        "import pandas as pd\n",
        "from plotly.offline import iplot\n",
        "import matplotlib.pyplot as plt\n",
        "import seaborn as sns\n",
        "from tensorflow.keras.preprocessing.text import Tokenizer\n",
        "from tensorflow.keras.preprocessing.sequence import pad_sequences\n",
        "from tensorflow.keras.models import Sequential\n",
        "from tensorflow.keras.layers import Dense, Embedding, LSTM, SpatialDropout1D\n",
        "from sklearn.model_selection import train_test_split\n",
        "from keras.utils.np_utils import to_categorical\n",
        "from tensorflow.keras.callbacks import EarlyStopping\n",
        "from tensorflow.keras.layers import Dropout\n",
        "import re\n",
        "from nltk.corpus import stopwords\n",
        "from nltk import word_tokenize\n",
        "STOPWORDS = set(stopwords.words('english'))"
      ]
    },
    {
      "cell_type": "markdown",
      "metadata": {
        "id": "yGlA3bYucdNw"
      },
      "source": [
        "# DATA EXPLORATION"
      ]
    },
    {
      "cell_type": "code",
      "execution_count": 38,
      "metadata": {
        "colab": {
          "base_uri": "https://localhost:8080/"
        },
        "id": "tqbeSm8vcfyl",
        "outputId": "872049ca-eba1-45ed-af0f-7267ac3c11c5"
      },
      "outputs": [
        {
          "name": "stdout",
          "output_type": "stream",
          "text": [
            "Drive already mounted at /content/drive; to attempt to forcibly remount, call drive.mount(\"/content/drive\", force_remount=True).\n"
          ]
        }
      ],
      "source": [
        "#Ambil dataset dari link diatas\n",
        "from google.colab import drive\n",
        "drive.mount('/content/drive')\n",
        "link_data = \"../content/drive/My Drive/DATASET_FOR_BPML/subjects-questions.csv\"\n",
        "data = pd.read_csv(link_data)"
      ]
    },
    {
      "cell_type": "code",
      "execution_count": 39,
      "metadata": {
        "colab": {
          "base_uri": "https://localhost:8080/",
          "height": 424
        },
        "id": "9aE7KyMkbrsi",
        "outputId": "eb435d39-9876-42fc-c1bd-fb53153eaf03"
      },
      "outputs": [
        {
          "data": {
            "text/html": [
              "\n",
              "  <div id=\"df-89abc116-9c34-4031-96c1-16047c1a30da\">\n",
              "    <div class=\"colab-df-container\">\n",
              "      <div>\n",
              "<style scoped>\n",
              "    .dataframe tbody tr th:only-of-type {\n",
              "        vertical-align: middle;\n",
              "    }\n",
              "\n",
              "    .dataframe tbody tr th {\n",
              "        vertical-align: top;\n",
              "    }\n",
              "\n",
              "    .dataframe thead th {\n",
              "        text-align: right;\n",
              "    }\n",
              "</style>\n",
              "<table border=\"1\" class=\"dataframe\">\n",
              "  <thead>\n",
              "    <tr style=\"text-align: right;\">\n",
              "      <th></th>\n",
              "      <th>eng</th>\n",
              "      <th>Subject</th>\n",
              "    </tr>\n",
              "  </thead>\n",
              "  <tbody>\n",
              "    <tr>\n",
              "      <th>0</th>\n",
              "      <td>An anti-forest measure is\\nA. Afforestation\\nB...</td>\n",
              "      <td>Biology</td>\n",
              "    </tr>\n",
              "    <tr>\n",
              "      <th>1</th>\n",
              "      <td>Among the following organic acids, the acid pr...</td>\n",
              "      <td>Chemistry</td>\n",
              "    </tr>\n",
              "    <tr>\n",
              "      <th>2</th>\n",
              "      <td>If the area of two similar triangles are equal...</td>\n",
              "      <td>Maths</td>\n",
              "    </tr>\n",
              "    <tr>\n",
              "      <th>3</th>\n",
              "      <td>In recent year, there has been a growing\\nconc...</td>\n",
              "      <td>Biology</td>\n",
              "    </tr>\n",
              "    <tr>\n",
              "      <th>4</th>\n",
              "      <td>Which of the following statement\\nregarding tr...</td>\n",
              "      <td>Physics</td>\n",
              "    </tr>\n",
              "    <tr>\n",
              "      <th>...</th>\n",
              "      <td>...</td>\n",
              "      <td>...</td>\n",
              "    </tr>\n",
              "    <tr>\n",
              "      <th>122514</th>\n",
              "      <td>Which of the following group of\\ncharacters is...</td>\n",
              "      <td>Biology</td>\n",
              "    </tr>\n",
              "    <tr>\n",
              "      <th>122515</th>\n",
              "      <td>Light year is the\\nA. light emitted by the sun...</td>\n",
              "      <td>Physics</td>\n",
              "    </tr>\n",
              "    <tr>\n",
              "      <th>122516</th>\n",
              "      <td>Member of Dipnoi are native of\\nA. India.\\nB. ...</td>\n",
              "      <td>Biology</td>\n",
              "    </tr>\n",
              "    <tr>\n",
              "      <th>122517</th>\n",
              "      <td>In one average-life,\\nA. half the active nucle...</td>\n",
              "      <td>Physics</td>\n",
              "    </tr>\n",
              "    <tr>\n",
              "      <th>122518</th>\n",
              "      <td>State whether true or false.\\nA magnetic field...</td>\n",
              "      <td>Physics</td>\n",
              "    </tr>\n",
              "  </tbody>\n",
              "</table>\n",
              "<p>122519 rows × 2 columns</p>\n",
              "</div>\n",
              "      <button class=\"colab-df-convert\" onclick=\"convertToInteractive('df-89abc116-9c34-4031-96c1-16047c1a30da')\"\n",
              "              title=\"Convert this dataframe to an interactive table.\"\n",
              "              style=\"display:none;\">\n",
              "        \n",
              "  <svg xmlns=\"http://www.w3.org/2000/svg\" height=\"24px\"viewBox=\"0 0 24 24\"\n",
              "       width=\"24px\">\n",
              "    <path d=\"M0 0h24v24H0V0z\" fill=\"none\"/>\n",
              "    <path d=\"M18.56 5.44l.94 2.06.94-2.06 2.06-.94-2.06-.94-.94-2.06-.94 2.06-2.06.94zm-11 1L8.5 8.5l.94-2.06 2.06-.94-2.06-.94L8.5 2.5l-.94 2.06-2.06.94zm10 10l.94 2.06.94-2.06 2.06-.94-2.06-.94-.94-2.06-.94 2.06-2.06.94z\"/><path d=\"M17.41 7.96l-1.37-1.37c-.4-.4-.92-.59-1.43-.59-.52 0-1.04.2-1.43.59L10.3 9.45l-7.72 7.72c-.78.78-.78 2.05 0 2.83L4 21.41c.39.39.9.59 1.41.59.51 0 1.02-.2 1.41-.59l7.78-7.78 2.81-2.81c.8-.78.8-2.07 0-2.86zM5.41 20L4 18.59l7.72-7.72 1.47 1.35L5.41 20z\"/>\n",
              "  </svg>\n",
              "      </button>\n",
              "      \n",
              "  <style>\n",
              "    .colab-df-container {\n",
              "      display:flex;\n",
              "      flex-wrap:wrap;\n",
              "      gap: 12px;\n",
              "    }\n",
              "\n",
              "    .colab-df-convert {\n",
              "      background-color: #E8F0FE;\n",
              "      border: none;\n",
              "      border-radius: 50%;\n",
              "      cursor: pointer;\n",
              "      display: none;\n",
              "      fill: #1967D2;\n",
              "      height: 32px;\n",
              "      padding: 0 0 0 0;\n",
              "      width: 32px;\n",
              "    }\n",
              "\n",
              "    .colab-df-convert:hover {\n",
              "      background-color: #E2EBFA;\n",
              "      box-shadow: 0px 1px 2px rgba(60, 64, 67, 0.3), 0px 1px 3px 1px rgba(60, 64, 67, 0.15);\n",
              "      fill: #174EA6;\n",
              "    }\n",
              "\n",
              "    [theme=dark] .colab-df-convert {\n",
              "      background-color: #3B4455;\n",
              "      fill: #D2E3FC;\n",
              "    }\n",
              "\n",
              "    [theme=dark] .colab-df-convert:hover {\n",
              "      background-color: #434B5C;\n",
              "      box-shadow: 0px 1px 3px 1px rgba(0, 0, 0, 0.15);\n",
              "      filter: drop-shadow(0px 1px 2px rgba(0, 0, 0, 0.3));\n",
              "      fill: #FFFFFF;\n",
              "    }\n",
              "  </style>\n",
              "\n",
              "      <script>\n",
              "        const buttonEl =\n",
              "          document.querySelector('#df-89abc116-9c34-4031-96c1-16047c1a30da button.colab-df-convert');\n",
              "        buttonEl.style.display =\n",
              "          google.colab.kernel.accessAllowed ? 'block' : 'none';\n",
              "\n",
              "        async function convertToInteractive(key) {\n",
              "          const element = document.querySelector('#df-89abc116-9c34-4031-96c1-16047c1a30da');\n",
              "          const dataTable =\n",
              "            await google.colab.kernel.invokeFunction('convertToInteractive',\n",
              "                                                     [key], {});\n",
              "          if (!dataTable) return;\n",
              "\n",
              "          const docLinkHtml = 'Like what you see? Visit the ' +\n",
              "            '<a target=\"_blank\" href=https://colab.research.google.com/notebooks/data_table.ipynb>data table notebook</a>'\n",
              "            + ' to learn more about interactive tables.';\n",
              "          element.innerHTML = '';\n",
              "          dataTable['output_type'] = 'display_data';\n",
              "          await google.colab.output.renderOutput(dataTable, element);\n",
              "          const docLink = document.createElement('div');\n",
              "          docLink.innerHTML = docLinkHtml;\n",
              "          element.appendChild(docLink);\n",
              "        }\n",
              "      </script>\n",
              "    </div>\n",
              "  </div>\n",
              "  "
            ],
            "text/plain": [
              "                                                      eng    Subject\n",
              "0       An anti-forest measure is\\nA. Afforestation\\nB...    Biology\n",
              "1       Among the following organic acids, the acid pr...  Chemistry\n",
              "2       If the area of two similar triangles are equal...      Maths\n",
              "3       In recent year, there has been a growing\\nconc...    Biology\n",
              "4       Which of the following statement\\nregarding tr...    Physics\n",
              "...                                                   ...        ...\n",
              "122514  Which of the following group of\\ncharacters is...    Biology\n",
              "122515  Light year is the\\nA. light emitted by the sun...    Physics\n",
              "122516  Member of Dipnoi are native of\\nA. India.\\nB. ...    Biology\n",
              "122517  In one average-life,\\nA. half the active nucle...    Physics\n",
              "122518  State whether true or false.\\nA magnetic field...    Physics\n",
              "\n",
              "[122519 rows x 2 columns]"
            ]
          },
          "execution_count": 39,
          "metadata": {},
          "output_type": "execute_result"
        }
      ],
      "source": [
        "data"
      ]
    },
    {
      "cell_type": "code",
      "execution_count": 40,
      "metadata": {
        "colab": {
          "base_uri": "https://localhost:8080/"
        },
        "id": "P4jaOCrzcZuV",
        "outputId": "004594d8-c788-468e-a950-915ec76435f7"
      },
      "outputs": [
        {
          "data": {
            "text/plain": [
              "eng        object\n",
              "Subject    object\n",
              "dtype: object"
            ]
          },
          "execution_count": 40,
          "metadata": {},
          "output_type": "execute_result"
        }
      ],
      "source": [
        "data.dtypes"
      ]
    },
    {
      "cell_type": "code",
      "execution_count": 41,
      "metadata": {
        "colab": {
          "base_uri": "https://localhost:8080/"
        },
        "id": "SzBS6PtdcsQQ",
        "outputId": "b54a0cb0-ce11-4720-c7e6-66485a32ab80"
      },
      "outputs": [
        {
          "data": {
            "text/plain": [
              "eng        0\n",
              "Subject    0\n",
              "dtype: int64"
            ]
          },
          "execution_count": 41,
          "metadata": {},
          "output_type": "execute_result"
        }
      ],
      "source": [
        "data.isnull().sum()"
      ]
    },
    {
      "cell_type": "code",
      "execution_count": 42,
      "metadata": {
        "colab": {
          "base_uri": "https://localhost:8080/"
        },
        "id": "OZR7z6pkhxcw",
        "outputId": "714ad44b-b1a8-43e4-af84-f5312a33f9ed"
      },
      "outputs": [
        {
          "name": "stdout",
          "output_type": "stream",
          "text": [
            "<class 'pandas.core.frame.DataFrame'>\n",
            "RangeIndex: 122519 entries, 0 to 122518\n",
            "Data columns (total 2 columns):\n",
            " #   Column   Non-Null Count   Dtype \n",
            "---  ------   --------------   ----- \n",
            " 0   eng      122519 non-null  object\n",
            " 1   Subject  122519 non-null  object\n",
            "dtypes: object(2)\n",
            "memory usage: 1.9+ MB\n"
          ]
        }
      ],
      "source": [
        "data.info()"
      ]
    },
    {
      "cell_type": "code",
      "execution_count": 43,
      "metadata": {
        "colab": {
          "base_uri": "https://localhost:8080/"
        },
        "id": "F-79HSiwo295",
        "outputId": "b6ff5617-5a84-4338-d97c-df37891db5af"
      },
      "outputs": [
        {
          "data": {
            "text/plain": [
              "Physics      38438\n",
              "Chemistry    37767\n",
              "Maths        33190\n",
              "Biology      13124\n",
              "Name: Subject, dtype: int64"
            ]
          },
          "execution_count": 43,
          "metadata": {},
          "output_type": "execute_result"
        }
      ],
      "source": [
        "data['Subject'].value_counts()"
      ]
    },
    {
      "cell_type": "markdown",
      "metadata": {
        "id": "clpeRAGmcxtz"
      },
      "source": [
        "# DATA PREPROCESSING"
      ]
    },
    {
      "cell_type": "code",
      "execution_count": 44,
      "metadata": {
        "id": "q_kn8bMQ16E5"
      },
      "outputs": [],
      "source": [
        "# Ambil 700 data pada setiap kelas\n",
        "che = data[data['Subject'] == \"Chemistry\"]\n",
        "phy = data[data['Subject'] == \"Physics\"]\n",
        "mtk = data[data['Subject'] == \"Maths\"]\n",
        "bio = data[data['Subject'] == \"Biology\"]\n",
        "\n",
        "che = che.iloc[:1250, :]\n",
        "phy = phy.iloc[:1250, :]\n",
        "mtk = mtk.iloc[:1250, :]\n",
        "bio = bio.iloc[:1250, :]"
      ]
    },
    {
      "cell_type": "code",
      "execution_count": 45,
      "metadata": {
        "colab": {
          "base_uri": "https://localhost:8080/"
        },
        "id": "EU3RPwar5qf-",
        "outputId": "f433db7e-3c4b-462c-8098-da651c330c6e"
      },
      "outputs": [
        {
          "data": {
            "text/plain": [
              "Chemistry    1250\n",
              "Physics      1250\n",
              "Maths        1250\n",
              "Biology      1250\n",
              "Name: Subject, dtype: int64"
            ]
          },
          "execution_count": 45,
          "metadata": {},
          "output_type": "execute_result"
        }
      ],
      "source": [
        "che = che.append(phy, ignore_index = True)\n",
        "che = che.append(mtk, ignore_index = True)\n",
        "che = che.append(bio, ignore_index = True)\n",
        "\n",
        "data_new = che.copy()\n",
        "data_new['Subject'].value_counts()"
      ]
    },
    {
      "cell_type": "code",
      "execution_count": 46,
      "metadata": {
        "colab": {
          "base_uri": "https://localhost:8080/",
          "height": 206
        },
        "id": "_KdU3ZPrcz6t",
        "outputId": "4d672236-2a73-4bcf-dcbf-fc0be37addbd"
      },
      "outputs": [
        {
          "data": {
            "text/html": [
              "\n",
              "  <div id=\"df-dc0698ad-7bab-458c-af65-d307e0617ae7\">\n",
              "    <div class=\"colab-df-container\">\n",
              "      <div>\n",
              "<style scoped>\n",
              "    .dataframe tbody tr th:only-of-type {\n",
              "        vertical-align: middle;\n",
              "    }\n",
              "\n",
              "    .dataframe tbody tr th {\n",
              "        vertical-align: top;\n",
              "    }\n",
              "\n",
              "    .dataframe thead th {\n",
              "        text-align: right;\n",
              "    }\n",
              "</style>\n",
              "<table border=\"1\" class=\"dataframe\">\n",
              "  <thead>\n",
              "    <tr style=\"text-align: right;\">\n",
              "      <th></th>\n",
              "      <th>eng</th>\n",
              "      <th>Biology</th>\n",
              "      <th>Chemistry</th>\n",
              "      <th>Maths</th>\n",
              "      <th>Physics</th>\n",
              "    </tr>\n",
              "  </thead>\n",
              "  <tbody>\n",
              "    <tr>\n",
              "      <th>0</th>\n",
              "      <td>Among the following organic acids, the acid pr...</td>\n",
              "      <td>0</td>\n",
              "      <td>1</td>\n",
              "      <td>0</td>\n",
              "      <td>0</td>\n",
              "    </tr>\n",
              "    <tr>\n",
              "      <th>1</th>\n",
              "      <td>A ketone has molar mass \\( 86 . \\) Which of\\nt...</td>\n",
              "      <td>0</td>\n",
              "      <td>1</td>\n",
              "      <td>0</td>\n",
              "      <td>0</td>\n",
              "    </tr>\n",
              "    <tr>\n",
              "      <th>2</th>\n",
              "      <td>An ideal gas is compressed in a closed contain...</td>\n",
              "      <td>0</td>\n",
              "      <td>1</td>\n",
              "      <td>0</td>\n",
              "      <td>0</td>\n",
              "    </tr>\n",
              "    <tr>\n",
              "      <th>3</th>\n",
              "      <td>What are monosaccharides? Explain denaturation...</td>\n",
              "      <td>0</td>\n",
              "      <td>1</td>\n",
              "      <td>0</td>\n",
              "      <td>0</td>\n",
              "    </tr>\n",
              "    <tr>\n",
              "      <th>4</th>\n",
              "      <td>The product \\( B \\) can be:\\n\\( \\mathbf{A} \\)\\...</td>\n",
              "      <td>0</td>\n",
              "      <td>1</td>\n",
              "      <td>0</td>\n",
              "      <td>0</td>\n",
              "    </tr>\n",
              "  </tbody>\n",
              "</table>\n",
              "</div>\n",
              "      <button class=\"colab-df-convert\" onclick=\"convertToInteractive('df-dc0698ad-7bab-458c-af65-d307e0617ae7')\"\n",
              "              title=\"Convert this dataframe to an interactive table.\"\n",
              "              style=\"display:none;\">\n",
              "        \n",
              "  <svg xmlns=\"http://www.w3.org/2000/svg\" height=\"24px\"viewBox=\"0 0 24 24\"\n",
              "       width=\"24px\">\n",
              "    <path d=\"M0 0h24v24H0V0z\" fill=\"none\"/>\n",
              "    <path d=\"M18.56 5.44l.94 2.06.94-2.06 2.06-.94-2.06-.94-.94-2.06-.94 2.06-2.06.94zm-11 1L8.5 8.5l.94-2.06 2.06-.94-2.06-.94L8.5 2.5l-.94 2.06-2.06.94zm10 10l.94 2.06.94-2.06 2.06-.94-2.06-.94-.94-2.06-.94 2.06-2.06.94z\"/><path d=\"M17.41 7.96l-1.37-1.37c-.4-.4-.92-.59-1.43-.59-.52 0-1.04.2-1.43.59L10.3 9.45l-7.72 7.72c-.78.78-.78 2.05 0 2.83L4 21.41c.39.39.9.59 1.41.59.51 0 1.02-.2 1.41-.59l7.78-7.78 2.81-2.81c.8-.78.8-2.07 0-2.86zM5.41 20L4 18.59l7.72-7.72 1.47 1.35L5.41 20z\"/>\n",
              "  </svg>\n",
              "      </button>\n",
              "      \n",
              "  <style>\n",
              "    .colab-df-container {\n",
              "      display:flex;\n",
              "      flex-wrap:wrap;\n",
              "      gap: 12px;\n",
              "    }\n",
              "\n",
              "    .colab-df-convert {\n",
              "      background-color: #E8F0FE;\n",
              "      border: none;\n",
              "      border-radius: 50%;\n",
              "      cursor: pointer;\n",
              "      display: none;\n",
              "      fill: #1967D2;\n",
              "      height: 32px;\n",
              "      padding: 0 0 0 0;\n",
              "      width: 32px;\n",
              "    }\n",
              "\n",
              "    .colab-df-convert:hover {\n",
              "      background-color: #E2EBFA;\n",
              "      box-shadow: 0px 1px 2px rgba(60, 64, 67, 0.3), 0px 1px 3px 1px rgba(60, 64, 67, 0.15);\n",
              "      fill: #174EA6;\n",
              "    }\n",
              "\n",
              "    [theme=dark] .colab-df-convert {\n",
              "      background-color: #3B4455;\n",
              "      fill: #D2E3FC;\n",
              "    }\n",
              "\n",
              "    [theme=dark] .colab-df-convert:hover {\n",
              "      background-color: #434B5C;\n",
              "      box-shadow: 0px 1px 3px 1px rgba(0, 0, 0, 0.15);\n",
              "      filter: drop-shadow(0px 1px 2px rgba(0, 0, 0, 0.3));\n",
              "      fill: #FFFFFF;\n",
              "    }\n",
              "  </style>\n",
              "\n",
              "      <script>\n",
              "        const buttonEl =\n",
              "          document.querySelector('#df-dc0698ad-7bab-458c-af65-d307e0617ae7 button.colab-df-convert');\n",
              "        buttonEl.style.display =\n",
              "          google.colab.kernel.accessAllowed ? 'block' : 'none';\n",
              "\n",
              "        async function convertToInteractive(key) {\n",
              "          const element = document.querySelector('#df-dc0698ad-7bab-458c-af65-d307e0617ae7');\n",
              "          const dataTable =\n",
              "            await google.colab.kernel.invokeFunction('convertToInteractive',\n",
              "                                                     [key], {});\n",
              "          if (!dataTable) return;\n",
              "\n",
              "          const docLinkHtml = 'Like what you see? Visit the ' +\n",
              "            '<a target=\"_blank\" href=https://colab.research.google.com/notebooks/data_table.ipynb>data table notebook</a>'\n",
              "            + ' to learn more about interactive tables.';\n",
              "          element.innerHTML = '';\n",
              "          dataTable['output_type'] = 'display_data';\n",
              "          await google.colab.output.renderOutput(dataTable, element);\n",
              "          const docLink = document.createElement('div');\n",
              "          docLink.innerHTML = docLinkHtml;\n",
              "          element.appendChild(docLink);\n",
              "        }\n",
              "      </script>\n",
              "    </div>\n",
              "  </div>\n",
              "  "
            ],
            "text/plain": [
              "                                                 eng  Biology  Chemistry  \\\n",
              "0  Among the following organic acids, the acid pr...        0          1   \n",
              "1  A ketone has molar mass \\( 86 . \\) Which of\\nt...        0          1   \n",
              "2  An ideal gas is compressed in a closed contain...        0          1   \n",
              "3  What are monosaccharides? Explain denaturation...        0          1   \n",
              "4  The product \\( B \\) can be:\\n\\( \\mathbf{A} \\)\\...        0          1   \n",
              "\n",
              "   Maths  Physics  \n",
              "0      0        0  \n",
              "1      0        0  \n",
              "2      0        0  \n",
              "3      0        0  \n",
              "4      0        0  "
            ]
          },
          "execution_count": 46,
          "metadata": {},
          "output_type": "execute_result"
        }
      ],
      "source": [
        "subject = pd.get_dummies(data_new.Subject)\n",
        "df_quest = pd.concat([data_new, subject], axis = 1)\n",
        "df_quest = df_quest.drop(columns = 'Subject')\n",
        "df_quest.head()"
      ]
    },
    {
      "cell_type": "markdown",
      "metadata": {
        "id": "05JsJyo6GvUM"
      },
      "source": [
        "# TEXT CLEANING"
      ]
    },
    {
      "cell_type": "code",
      "execution_count": 47,
      "metadata": {
        "id": "osN8uwmVGyrD"
      },
      "outputs": [],
      "source": [
        "REPLACE_BY_SPACE_RE = re.compile('[/(){}\\[\\]\\|@,;]')\n",
        "BAD_SYMBOLS_RE = re.compile('[^0-9a-z #+_]')\n",
        "STOPWORDS = set(stopwords.words('english'))\n",
        "\n",
        "def clean_text(text):\n",
        "    text = text.lower() # lowercase text\n",
        "    text = REPLACE_BY_SPACE_RE.sub(' ', text) \n",
        "    text = BAD_SYMBOLS_RE.sub('', text)  \n",
        "    text = text.replace('x', '')\n",
        "    text = ' '.join(word for word in text.split() if word not in STOPWORDS) \n",
        "    return text\n",
        "df_quest['eng'] = df_quest['eng'].apply(clean_text)"
      ]
    },
    {
      "cell_type": "code",
      "execution_count": 48,
      "metadata": {
        "colab": {
          "base_uri": "https://localhost:8080/"
        },
        "id": "cShbZDJgI3Fd",
        "outputId": "4540ef2e-d7aa-40e0-d524-513ed300bd06"
      },
      "outputs": [
        {
          "data": {
            "text/plain": [
              "0       among following organic acids acid present ran...\n",
              "1       ketone molar mass 86 ofthe following cannot iu...\n",
              "2       ideal gas compressed closed container ua incre...\n",
              "3            monosaccharides eplain denaturation proteins\n",
              "4       product b mathbf b h c h mathbf c cdot c h_ 3 ...\n",
              "                              ...                        \n",
              "4995    enzyme peptidyl transferase prokaryotes reside...\n",
              "4996    concentration carbon dioidebeyond fails accele...\n",
              "4997    callose carbohydrates traced ina vesselsb trac...\n",
              "4998                     eplain electron transport system\n",
              "4999    anaerobic respiration also calledasa fermentat...\n",
              "Name: eng, Length: 5000, dtype: object"
            ]
          },
          "execution_count": 48,
          "metadata": {},
          "output_type": "execute_result"
        }
      ],
      "source": [
        "df_quest['eng']"
      ]
    },
    {
      "cell_type": "markdown",
      "metadata": {
        "id": "o7Tgd3YoHPJW"
      },
      "source": [
        "# TOKENIZING"
      ]
    },
    {
      "cell_type": "code",
      "execution_count": 49,
      "metadata": {
        "colab": {
          "base_uri": "https://localhost:8080/",
          "height": 70
        },
        "id": "FuJVUey0HQvF",
        "outputId": "9aebff8a-3ad5-4c6c-fe58-bc0b2053f270"
      },
      "outputs": [
        {
          "data": {
            "application/vnd.google.colaboratory.intrinsic+json": {
              "type": "string"
            },
            "text/plain": [
              "'MAX_NB_WORDS = 50000\\n\\nMAX_SEQUENCE_LENGTH = 250\\n\\nEMBEDDING_DIM = 100\\n\\ntokenizer = Tokenizer(num_words=MAX_NB_WORDS, filters=\\'!\"#$%&()*+,-./:;<=>?@[\\\\]^_`{|}~\\', lower=True)\\ntokenizer.fit_on_texts(df_quest[\\'eng\\'].values)\\nword_index = tokenizer.word_index\\nprint(\\'Ditemukan %s Token yang unique.\\' % len(word_index))'"
            ]
          },
          "execution_count": 49,
          "metadata": {},
          "output_type": "execute_result"
        }
      ],
      "source": [
        "\"\"\"MAX_NB_WORDS = 50000\n",
        "\n",
        "MAX_SEQUENCE_LENGTH = 250\n",
        "\n",
        "EMBEDDING_DIM = 100\n",
        "\n",
        "tokenizer = Tokenizer(num_words=MAX_NB_WORDS, filters='!\"#$%&()*+,-./:;<=>?@[\\]^_`{|}~', lower=True)\n",
        "tokenizer.fit_on_texts(df_quest['eng'].values)\n",
        "word_index = tokenizer.word_index\n",
        "print('Ditemukan %s Token yang unique.' % len(word_index))\"\"\""
      ]
    },
    {
      "cell_type": "code",
      "execution_count": 50,
      "metadata": {
        "colab": {
          "base_uri": "https://localhost:8080/"
        },
        "id": "g1T_p7HHQa08",
        "outputId": "57ca6603-4b71-4c3f-b65e-c93fdf55a8bc"
      },
      "outputs": [
        {
          "name": "stdout",
          "output_type": "stream",
          "text": [
            "Ditemukan 18503 Token yang unique.\n"
          ]
        }
      ],
      "source": [
        "MAX_NB_WORDS = 50000\n",
        "\n",
        "MAX_SEQUENCE_LENGTH = 250\n",
        "\n",
        "EMBEDDING_DIM = 100\n",
        "\n",
        "tokenizer = Tokenizer(num_words=MAX_NB_WORDS, filters='!\"#$%&()*+,-./:;<=>?@[\\]^_`{|}~', lower=True, oov_token='x')\n",
        "tokenizer.fit_on_texts(df_quest['eng'].values)\n",
        "word_index = tokenizer.word_index\n",
        "print('Ditemukan %s Token yang unique.' % len(word_index))"
      ]
    },
    {
      "cell_type": "markdown",
      "metadata": {
        "id": "NQ63Pj7MqJUY"
      },
      "source": [
        "# SPLITTING DATA"
      ]
    },
    {
      "cell_type": "code",
      "execution_count": 51,
      "metadata": {
        "colab": {
          "base_uri": "https://localhost:8080/"
        },
        "id": "dmFZARDxqLg4",
        "outputId": "eeac9aab-5b33-4845-d94f-8827eb666c1e"
      },
      "outputs": [
        {
          "name": "stdout",
          "output_type": "stream",
          "text": [
            "Shape of data tensor  :  (5000, 250)\n",
            "Shape of label tensor :  (5000, 4)\n"
          ]
        }
      ],
      "source": [
        "X = tokenizer.texts_to_sequences(df_quest['eng'].values)\n",
        "X = pad_sequences(X, maxlen=MAX_SEQUENCE_LENGTH)\n",
        "\n",
        "Y = df_quest.iloc[:, 1:].values\n",
        "\n",
        "print('Shape of data tensor  : ', X.shape)\n",
        "print('Shape of label tensor : ', Y.shape)"
      ]
    },
    {
      "cell_type": "code",
      "execution_count": 52,
      "metadata": {
        "colab": {
          "base_uri": "https://localhost:8080/"
        },
        "id": "DY24TiSXInXA",
        "outputId": "ec8ecb72-79cf-495b-f757-93c134a5b3e6"
      },
      "outputs": [
        {
          "name": "stdout",
          "output_type": "stream",
          "text": [
            "(4000, 250) (4000, 4)\n",
            "(1000, 250) (1000, 4)\n"
          ]
        }
      ],
      "source": [
        "X_train, X_val, Y_train, Y_val = train_test_split(X,Y, test_size = 0.20, random_state = 42)\n",
        "print(X_train.shape,Y_train.shape)\n",
        "print(X_val.shape,Y_val.shape)"
      ]
    },
    {
      "cell_type": "markdown",
      "metadata": {
        "id": "5uZxYowoIyRD"
      },
      "source": [
        "# Modelling"
      ]
    },
    {
      "cell_type": "code",
      "execution_count": 61,
      "metadata": {
        "id": "vhcxbfJwB8Z0"
      },
      "outputs": [],
      "source": [
        "from tensorflow.keras import metrics\n",
        "METRICS = [\n",
        "    metrics.CategoricalAccuracy(name='categorical_accuracy'),\n",
        "    metrics.Precision(name='precision'),\n",
        "    metrics.Recall(name='recall'),\n",
        "    metrics.AUC(name='auc'),\n",
        "    metrics.AUC(name='prc', curve='PR')\n",
        "]\n",
        "\n",
        "model = tf.keras.Sequential([\n",
        "                    Embedding(MAX_NB_WORDS, EMBEDDING_DIM, input_length=X.shape[1]),\n",
        "                    SpatialDropout1D(0.5),\n",
        "                    LSTM(105, dropout=0.2, recurrent_dropout=0.2),\n",
        "                    Dense(4, activation='softmax')])\n",
        "model.compile(loss='categorical_crossentropy',optimizer='adam',metrics=METRICS)"
      ]
    },
    {
      "cell_type": "code",
      "execution_count": 62,
      "metadata": {
        "colab": {
          "base_uri": "https://localhost:8080/"
        },
        "id": "K-kbuRICCVGl",
        "outputId": "e3c34573-92d7-43b7-c7f9-0bd17d73cbad"
      },
      "outputs": [
        {
          "name": "stdout",
          "output_type": "stream",
          "text": [
            "Model: \"sequential_4\"\n",
            "_________________________________________________________________\n",
            " Layer (type)                Output Shape              Param #   \n",
            "=================================================================\n",
            " embedding_5 (Embedding)     (None, 250, 100)          5000000   \n",
            "                                                                 \n",
            " spatial_dropout1d_6 (Spatia  (None, 250, 100)         0         \n",
            " lDropout1D)                                                     \n",
            "                                                                 \n",
            " lstm_5 (LSTM)               (None, 105)               86520     \n",
            "                                                                 \n",
            " dense_4 (Dense)             (None, 4)                 424       \n",
            "                                                                 \n",
            "=================================================================\n",
            "Total params: 5,086,944\n",
            "Trainable params: 5,086,944\n",
            "Non-trainable params: 0\n",
            "_________________________________________________________________\n"
          ]
        }
      ],
      "source": [
        "model.summary()"
      ]
    },
    {
      "cell_type": "code",
      "execution_count": 63,
      "metadata": {
        "id": "nv3Qaz6QC68X"
      },
      "outputs": [],
      "source": [
        "logdir='logs'\n",
        "tensorboard_callback = tf.keras.callbacks.TensorBoard(log_dir=logdir)"
      ]
    },
    {
      "cell_type": "code",
      "execution_count": 64,
      "metadata": {
        "colab": {
          "base_uri": "https://localhost:8080/"
        },
        "id": "IWfhseODDnpr",
        "outputId": "ac63a122-8de2-43c5-ccae-65ca8b3a7d7c"
      },
      "outputs": [
        {
          "name": "stdout",
          "output_type": "stream",
          "text": [
            "Epoch 1/5\n",
            "500/500 [==============================] - 214s 421ms/step - loss: 1.0417 - categorical_accuracy: 0.5683 - precision: 0.7317 - recall: 0.3307 - auc: 0.8121 - prc: 0.6200 - val_loss: 0.7899 - val_categorical_accuracy: 0.7280 - val_precision: 0.8175 - val_recall: 0.5780 - val_auc: 0.8971 - val_prc: 0.7721\n",
            "Epoch 2/5\n",
            "500/500 [==============================] - 207s 415ms/step - loss: 0.4737 - categorical_accuracy: 0.8480 - precision: 0.8838 - recall: 0.8002 - auc: 0.9587 - prc: 0.9021 - val_loss: 0.5500 - val_categorical_accuracy: 0.8120 - val_precision: 0.8492 - val_recall: 0.7770 - val_auc: 0.9460 - val_prc: 0.8757\n",
            "Epoch 3/5\n",
            "500/500 [==============================] - 208s 416ms/step - loss: 0.2637 - categorical_accuracy: 0.9222 - precision: 0.9375 - recall: 0.9038 - auc: 0.9851 - prc: 0.9648 - val_loss: 0.4880 - val_categorical_accuracy: 0.8520 - val_precision: 0.8692 - val_recall: 0.8310 - val_auc: 0.9592 - val_prc: 0.9049\n",
            "Epoch 4/5\n",
            "500/500 [==============================] - 207s 414ms/step - loss: 0.1611 - categorical_accuracy: 0.9570 - precision: 0.9649 - recall: 0.9495 - auc: 0.9923 - prc: 0.9816 - val_loss: 0.4993 - val_categorical_accuracy: 0.8600 - val_precision: 0.8749 - val_recall: 0.8390 - val_auc: 0.9588 - val_prc: 0.9001\n",
            "Epoch 5/5\n",
            "500/500 [==============================] - 217s 434ms/step - loss: 0.1017 - categorical_accuracy: 0.9753 - precision: 0.9781 - recall: 0.9718 - auc: 0.9961 - prc: 0.9912 - val_loss: 0.5093 - val_categorical_accuracy: 0.8610 - val_precision: 0.8745 - val_recall: 0.8500 - val_auc: 0.9561 - val_prc: 0.8985\n"
          ]
        }
      ],
      "source": [
        "hist = model.fit(\n",
        "    X_train,\n",
        "    Y_train, \n",
        "    validation_data=[X_val, Y_val], \n",
        "    batch_size = 8,\n",
        "    epochs=5,\n",
        "    callbacks = [tensorboard_callback])"
      ]
    },
    {
      "cell_type": "code",
      "execution_count": 65,
      "metadata": {
        "colab": {
          "base_uri": "https://localhost:8080/"
        },
        "id": "ExOz2LWMKKYs",
        "outputId": "63102905-9439-4a0f-9854-8ff1345f7f71"
      },
      "outputs": [
        {
          "name": "stdout",
          "output_type": "stream",
          "text": [
            "32/32 [==============================] - 3s 77ms/step - loss: 0.5093 - categorical_accuracy: 0.8610 - precision: 0.8745 - recall: 0.8500 - auc: 0.9561 - prc: 0.8985\n"
          ]
        },
        {
          "data": {
            "text/plain": [
              "[0.5092924237251282,\n",
              " 0.8610000014305115,\n",
              " 0.8744856119155884,\n",
              " 0.8500000238418579,\n",
              " 0.9561472535133362,\n",
              " 0.8985116481781006]"
            ]
          },
          "execution_count": 65,
          "metadata": {},
          "output_type": "execute_result"
        }
      ],
      "source": [
        "model.evaluate(X_val, Y_val)"
      ]
    },
    {
      "cell_type": "code",
      "execution_count": 66,
      "metadata": {
        "colab": {
          "base_uri": "https://localhost:8080/",
          "height": 1000
        },
        "id": "IuFh_Lkzwvte",
        "outputId": "c14862d7-c202-47f8-dba6-c9a55ff9706f"
      },
      "outputs": [
        {
          "data": {
            "image/png": "[encoded data removed]",
            "text/plain": [
              "<Figure size 432x288 with 1 Axes>"
            ]
          },
          "metadata": {
            "needs_background": "light"
          },
          "output_type": "display_data"
        },
        {
          "data": {
            "image/png": "[encoded data removed]",
            "text/plain": [
              "<Figure size 432x288 with 1 Axes>"
            ]
          },
          "metadata": {
            "needs_background": "light"
          },
          "output_type": "display_data"
        },
        {
          "data": {
            "image/png": "[encoded data removed]",
            "text/plain": [
              "<Figure size 432x288 with 1 Axes>"
            ]
          },
          "metadata": {
            "needs_background": "light"
          },
          "output_type": "display_data"
        },
        {
          "data": {
            "image/png": "[encoded data removed]",
            "text/plain": [
              "<Figure size 432x288 with 1 Axes>"
            ]
          },
          "metadata": {
            "needs_background": "light"
          },
          "output_type": "display_data"
        },
        {
          "data": {
            "image/png": "[encoded data removed]",
            "text/plain": [
              "<Figure size 432x288 with 1 Axes>"
            ]
          },
          "metadata": {
            "needs_background": "light"
          },
          "output_type": "display_data"
        },
        {
          "data": {
            "image/png": "[encoded data removed]",
            "text/plain": [
              "<Figure size 432x288 with 1 Axes>"
            ]
          },
          "metadata": {
            "needs_background": "light"
          },
          "output_type": "display_data"
        }
      ],
      "source": [
        "analisis_train = ['categorical_accuracy', 'loss', 'recall', 'precision', 'auc', 'prc']\n",
        "analisis_val = ['val_categorical_accuracy', 'val_loss', 'val_recall','val_precision', 'val_auc', 'val_prc' ]\n",
        "notes = ['Accuracy Over Time', 'Loss Over Time', 'Recall Over Time', 'Precission Over Time', 'Auc Over Time (ROC Curve)', 'Auc Over Time (PRC Curve)']\n",
        "\n",
        "for analize in range(0, len(analisis_train)):\n",
        "  plt.plot(hist.history[analisis_train[analize]], label=analisis_train[analize])\n",
        "  plt.plot(hist.history[analisis_val[analize]], label = analisis_val[analize])\n",
        "  plt.xlabel('Epochs')\n",
        "  plt.ylabel(analisis_train[analize])\n",
        "  plt.ylim(0, 1)\n",
        "  plt.title(notes[analize])\n",
        "  plt.legend()\n",
        "  plt.show()"
      ]
    }
  ],
  "metadata": {
    "colab": {
      "collapsed_sections": [],
      "provenance": []
    },
    "kernelspec": {
      "display_name": "Python 3",
      "name": "python3"
    },
    "language_info": {
      "name": "python"
    }
  },
  "nbformat": 4,
  "nbformat_minor": 0
}
